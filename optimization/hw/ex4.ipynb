{
 "cells": [
  {
   "cell_type": "code",
   "execution_count": 1,
   "id": "65897bc3-3c8f-4e8f-82a0-46bc42eb14c0",
   "metadata": {},
   "outputs": [
    {
     "data": {
      "text/html": [
       "<table class=\"dataframe\">\n",
       "<caption>A data.frame: 6 × 2</caption>\n",
       "<thead>\n",
       "\t<tr><th></th><th scope=col>days</th><th scope=col>beetles</th></tr>\n",
       "\t<tr><th></th><th scope=col>&lt;int&gt;</th><th scope=col>&lt;int&gt;</th></tr>\n",
       "</thead>\n",
       "<tbody>\n",
       "\t<tr><th scope=row>1</th><td> 0</td><td>  2</td></tr>\n",
       "\t<tr><th scope=row>2</th><td> 8</td><td> 47</td></tr>\n",
       "\t<tr><th scope=row>3</th><td>28</td><td>192</td></tr>\n",
       "\t<tr><th scope=row>4</th><td>41</td><td>256</td></tr>\n",
       "\t<tr><th scope=row>5</th><td>63</td><td>768</td></tr>\n",
       "\t<tr><th scope=row>6</th><td>79</td><td>896</td></tr>\n",
       "</tbody>\n",
       "</table>\n"
      ],
      "text/latex": [
       "A data.frame: 6 × 2\n",
       "\\begin{tabular}{r|ll}\n",
       "  & days & beetles\\\\\n",
       "  & <int> & <int>\\\\\n",
       "\\hline\n",
       "\t1 &  0 &   2\\\\\n",
       "\t2 &  8 &  47\\\\\n",
       "\t3 & 28 & 192\\\\\n",
       "\t4 & 41 & 256\\\\\n",
       "\t5 & 63 & 768\\\\\n",
       "\t6 & 79 & 896\\\\\n",
       "\\end{tabular}\n"
      ],
      "text/markdown": [
       "\n",
       "A data.frame: 6 × 2\n",
       "\n",
       "| <!--/--> | days &lt;int&gt; | beetles &lt;int&gt; |\n",
       "|---|---|---|\n",
       "| 1 |  0 |   2 |\n",
       "| 2 |  8 |  47 |\n",
       "| 3 | 28 | 192 |\n",
       "| 4 | 41 | 256 |\n",
       "| 5 | 63 | 768 |\n",
       "| 6 | 79 | 896 |\n",
       "\n"
      ],
      "text/plain": [
       "  days beetles\n",
       "1  0     2    \n",
       "2  8    47    \n",
       "3 28   192    \n",
       "4 41   256    \n",
       "5 63   768    \n",
       "6 79   896    "
      ]
     },
     "metadata": {},
     "output_type": "display_data"
    }
   ],
   "source": [
    "beetles_data <- read.csv(file=\"./beetles.csv\", header=TRUE)\n",
    "\n",
    " head(beetles_data)"
   ]
  },
  {
   "cell_type": "code",
   "execution_count": 2,
   "id": "f269325b-12d1-46e1-baa4-d9510c71d6f8",
   "metadata": {},
   "outputs": [
    {
     "data": {
      "text/html": [
       "'Number of days: 10'"
      ],
      "text/latex": [
       "'Number of days: 10'"
      ],
      "text/markdown": [
       "'Number of days: 10'"
      ],
      "text/plain": [
       "[1] \"Number of days: 10\""
      ]
     },
     "metadata": {},
     "output_type": "display_data"
    },
    {
     "data": {
      "text/html": [
       "'Number of beetles: 10'"
      ],
      "text/latex": [
       "'Number of beetles: 10'"
      ],
      "text/markdown": [
       "'Number of beetles: 10'"
      ],
      "text/plain": [
       "[1] \"Number of beetles: 10\""
      ]
     },
     "metadata": {},
     "output_type": "display_data"
    }
   ],
   "source": [
    "t <- beetles_data$days\n",
    "y <- beetles_data$beetles\n",
    "\n",
    "sprintf(\"Number of days: %d\", length(t))\n",
    "sprintf(\"Number of beetles: %d\", length(y))"
   ]
  },
  {
   "cell_type": "code",
   "execution_count": 3,
   "id": "806c9c5c-d3c1-4bd8-ac48-f46e9ce59760",
   "metadata": {},
   "outputs": [],
   "source": [
    "N0 <- y[1]\n",
    "\n",
    "population_func <- function(t, k, r) {\n",
    "    k*N0 / (N0 + (k - N0)*exp(-r*t))\n",
    "}"
   ]
  },
  {
   "cell_type": "code",
   "execution_count": 4,
   "id": "70cc5fab-ecfc-4f6f-8a7d-ad2e520720bb",
   "metadata": {},
   "outputs": [],
   "source": [
    "loss_func <- function(t, y, params) {\n",
    "    y_pred <- population_func(t, params$k, params$r)\n",
    "    total <- mean((y_pred - y)^2)\n",
    "    \n",
    "    total / 2\n",
    "}"
   ]
  },
  {
   "cell_type": "code",
   "execution_count": 6,
   "id": "0b8cbd39-c6c9-4eb0-85c4-a80b2de1a83d",
   "metadata": {},
   "outputs": [],
   "source": [
    "h_prime_func <- function(t, params) {\n",
    "    exp_rt <- exp(-params$r*t)\n",
    "    h_prime_k <- exp_rt\n",
    "    h_prime_r <- -t*(params$k - N0)*exp_rt\n",
    "\n",
    "    list(k=h_prime_k, r=h_prime_r)\n",
    "}\n",
    "\n",
    "g_prime_func <- function(t, params) {\n",
    "    exp_rt <- exp(-params$r*t)\n",
    "    h <- N0 + (params$k - N0)*exp_rt\n",
    "    h_prime <- h_prime_func(t, params)\n",
    "\n",
    "    g_prime_k <- N0/h - h_prime$k*(params$k*N0)/h^2\n",
    "    g_prime_r <- -(params$k*N0/h^2)*h_prime$r\n",
    "\n",
    "    list(k=g_prime_k, r=g_prime_r)\n",
    "}\n",
    "\n",
    "loss_prime_func <- function(t, y, params) {\n",
    "    y_hat <- population_func(t, params$k, params$r)\n",
    "    g_prime <- g_prime_func(t, params)\n",
    "    delta <- y_hat - y\n",
    "\n",
    "    loss_prime_k <- mean(delta*g_prime$k)\n",
    "    loss_prime_r <- mean(delta*g_prime$r)\n",
    "\n",
    "    c(loss_prime_k, loss_prime_r)\n",
    "}"
   ]
  },
  {
   "cell_type": "code",
   "execution_count": 7,
   "id": "78dd340b-99fc-482f-b1d4-5aaaf8173816",
   "metadata": {},
   "outputs": [],
   "source": [
    "h_2prime_func <- function(t, params) {\n",
    "    h_2prime_rr <- (t^2)*(params$k - N0)*exp(-params$r*t)\n",
    "    h_2prime_rk <- -t*exp(-params$r*t)\n",
    "\n",
    "    list(kk=0, rr=h_2prime_rr, rk=h_2prime_rk)\n",
    "}\n",
    "\n",
    "g_2prime_func <- function(t, params) {\n",
    "    exp_rt <- exp(-params$r*t)\n",
    "    h <- N0 + (params$k - N0)*exp_rt\n",
    "    h_prime <- h_prime_func(t, params)\n",
    "    h_2prime <- h_2prime_func(t, params)\n",
    "    KN0 <- params$k*N0\n",
    "\n",
    "    g_2prime_kk <- 2*(h_prime$k^2)*(KN0/h^3) - 2*h_prime$k*(N0/h^2)\n",
    "    g_2prime_rr <- 2*(KN0/h^3)*h_prime$r^2 - (KN0/h^2)*h_2prime$rr\n",
    "    g_2prime_rk <- -(N0/h^2)*h_prime$r - (KN0/h^2)*h_2prime$rk + 2*(KN0/h^3)*h_prime$k*h_prime$r\n",
    "\n",
    "    list(kk=g_2prime_kk, rr=g_2prime_rr, rk=g_2prime_rk)\n",
    "}\n",
    "\n",
    "loss_2prime_func <- function(t, y, params) {\n",
    "    y_hat <- population_func(t, params$k, params$r)\n",
    "    g_prime <- g_prime_func(t, params)\n",
    "    g_2prime <- g_2prime_func(t, params)\n",
    "    delta <- y_hat - y\n",
    "\n",
    "    loss_2prime_kk <- mean(delta*g_2prime$kk + g_prime$k^2)\n",
    "    loss_2prime_rr <- mean(delta*g_2prime$rr + g_prime$r^2)\n",
    "    loss_2prime_rk <- mean(delta*g_2prime$rk + g_prime$k*g_prime$r)\n",
    "\n",
    "    rbind(\n",
    "        c(loss_2prime_kk, loss_2prime_rk),\n",
    "        c(loss_2prime_rk, loss_2prime_rr)\n",
    "    )\n",
    "}"
   ]
  },
  {
   "cell_type": "markdown",
   "id": "7939bab4-90b1-4f06-b46f-9347aef44e15",
   "metadata": {},
   "source": [
    "### Naive Newton method"
   ]
  },
  {
   "cell_type": "code",
   "execution_count": 8,
   "id": "f9e0a155-728f-48dc-8981-aef76e2e1cab",
   "metadata": {},
   "outputs": [],
   "source": [
    "newtonlike_updating <- function(params, M, grad, a=1.) {\n",
    "    d <- -solve(M,grad)\n",
    "    \n",
    "    params$k <- params$k + a*d[1]\n",
    "    params$r <- params$r + a*d[2]\n",
    "    return(params)\n",
    "}\n",
    "\n",
    "update_history <- function(history, iter, loss) {\n",
    "    history$iter <- append(history$iter, iter)\n",
    "    history$loss <- append(history$loss, loss)\n",
    "\n",
    "    history\n",
    "}\n",
    "\n",
    "err_func <- function(old_params, params) {\n",
    "    old_params <- c(old_params$k, old_params$r)\n",
    "    params <- c(params$k, params$r)\n",
    "\n",
    "    norm(params - old_params, type=\"2\")\n",
    "}"
   ]
  },
  {
   "cell_type": "code",
   "execution_count": 9,
   "id": "63c98a66-c73d-42a5-809a-13831d316240",
   "metadata": {},
   "outputs": [],
   "source": [
    "newton_optimizer <- function(t, y, max_iter, threshold, params, start_a=0.5) {\n",
    "    history <- list(iter=list(), loss=list())\n",
    "    init_loss <- loss_func(t, y, params)\n",
    "    history <- update_history(history, 0, init_loss)\n",
    "    a <- start_a\n",
    "    \n",
    "    for (i in 1:max_iter) {\n",
    "        iter <- i\n",
    "        old_params <- params\n",
    "        grad <- loss_prime_func(t, y, old_params)\n",
    "        M <- loss_2prime_func(t, y, old_params)\n",
    "        params <- newtonlike_updating(old_params, M, grad, a)\n",
    "        \n",
    "        new_loss <- loss_func(t, y, params)\n",
    "        history <- update_history(history, iter, new_loss)\n",
    "        \n",
    "        err <- err_func(old_params, params)\n",
    "        if (err <= threshold) {\n",
    "            print(sprintf(\"Stop at iter: %d\", iter))\n",
    "            break\n",
    "        }\n",
    "    }\n",
    "    return(list(params=params, history=history))\n",
    "}"
   ]
  },
  {
   "cell_type": "code",
   "execution_count": 10,
   "id": "2b520dea-fa66-482d-ae38-13d2898d8a0f",
   "metadata": {},
   "outputs": [
    {
     "name": "stdout",
     "output_type": "stream",
     "text": [
      "[1] \"Stop at iter: 27\"\n"
     ]
    },
    {
     "data": {
      "text/html": [
       "'Optimal points: K=1033.5153, r=0.1180'"
      ],
      "text/latex": [
       "'Optimal points: K=1033.5153, r=0.1180'"
      ],
      "text/markdown": [
       "'Optimal points: K=1033.5153, r=0.1180'"
      ],
      "text/plain": [
       "[1] \"Optimal points: K=1033.5153, r=0.1180\""
      ]
     },
     "metadata": {},
     "output_type": "display_data"
    },
    {
     "data": {
      "text/html": [
       "'Final loss: 4162.0243'"
      ],
      "text/latex": [
       "'Final loss: 4162.0243'"
      ],
      "text/markdown": [
       "'Final loss: 4162.0243'"
      ],
      "text/plain": [
       "[1] \"Final loss: 4162.0243\""
      ]
     },
     "metadata": {},
     "output_type": "display_data"
    },
    {
     "data": {
      "image/png": "[encoded data removed]",
      "text/plain": [
       "plot without title"
      ]
     },
     "metadata": {
      "image/png": {
       "height": 420,
       "width": 420
      }
     },
     "output_type": "display_data"
    }
   ],
   "source": [
    "max_iter <- 100\n",
    "threshold <- 1e-5\n",
    "start_a <- 0.5\n",
    "init_params <- list(k = 1.,r = 1.)\n",
    "\n",
    "result <- newton_optimizer(t, y, max_iter, threshold, init_params, start_a)\n",
    "\n",
    "plot(\n",
    "    result$history$iter,\n",
    "    result$history$loss,\n",
    "    type = \"l\",\n",
    "    col = \"blue\",\n",
    "    xlab = 'iter',\n",
    "    ylab = 'MSE'\n",
    ")\n",
    "\n",
    "sprintf(\"Optimal points: K=%.4f, r=%.4f\", result$params$k, result$params$r)\n",
    "sprintf(\"Final loss: %.4f\",loss_func(t, y, result$params))"
   ]
  },
  {
   "cell_type": "markdown",
   "id": "88db6013-44bd-4581-9f5c-e319aa318410",
   "metadata": {},
   "source": [
    "### Quasi-Newton method"
   ]
  },
  {
   "cell_type": "code",
   "execution_count": 11,
   "id": "a5ef9943-45db-4206-b270-55d5d57086f6",
   "metadata": {},
   "outputs": [],
   "source": [
    "hess_updating <- function(t, y, params, old_params, M, old_grad) {\n",
    "    grad <- loss_prime_func(t, y, params)\n",
    "\n",
    "    # convert list to vector\n",
    "    params <- c(params$k, params$r)\n",
    "    old_params <- c(old_params$k, old_params$r)\n",
    "    \n",
    "    h <- params - old_params\n",
    "    u <- grad - old_grad\n",
    "    h_trans <- t(h)\n",
    "    m_h <- M %*% h\n",
    "    num1 <- m_h %*% t(m_h)\n",
    "    de1 <- as.numeric(h_trans %*% m_h)\n",
    "    num2 <- u %*% t(u)\n",
    "    de2 <- as.numeric(h_trans %*% u)\n",
    "\n",
    "    M <- M - num1/de1 + num2/de2\n",
    "}\n",
    "\n",
    "bfgs_optimizer <- function(t, y, max_iter, threshold, params, M, start_a=1) {\n",
    "    history <- list(iter=list(), loss=list())\n",
    "    init_loss <- loss_func(t, y, params)\n",
    "    history <- update_history(history, 0, init_loss)\n",
    "    \n",
    "    for (i in 1:max_iter) {\n",
    "        iter <- i\n",
    "        a <- start_a\n",
    "        old_params <- params\n",
    "        old_loss <- loss_func(t, y, old_params)\n",
    "        grad <- loss_prime_func(t, y, old_params)\n",
    "        params <- newtonlike_updating(old_params, M, grad, a)\n",
    "\n",
    "        for (j in 1:10) {\n",
    "            new_loss <- loss_func(t, y, params)\n",
    "            if (new_loss < old_loss) {\n",
    "                break\n",
    "            }\n",
    "            a <- a / 2.\n",
    "            params <- newtonlike_updating(old_params, M, grad, a)\n",
    "        }\n",
    "        history <- update_history(history, iter, new_loss)\n",
    "        \n",
    "        err <- err_func(old_params, params)\n",
    "        if (err <= threshold) {\n",
    "            print(sprintf(\"Stop at iter: %d\", iter))\n",
    "            break\n",
    "        }\n",
    "        M <- hess_updating(t, y, params, old_params, M, grad)\n",
    "    }\n",
    "\n",
    "    return(list(params=params, history=history))\n",
    "}"
   ]
  },
  {
   "cell_type": "code",
   "execution_count": 15,
   "id": "7807aac0-46ae-48bf-bfbc-b8eae8914d6c",
   "metadata": {},
   "outputs": [
    {
     "name": "stdout",
     "output_type": "stream",
     "text": [
      "[1] \"Stop at iter: 28\"\n"
     ]
    },
    {
     "data": {
      "text/html": [
       "'Optimal points: K=709.2222, r=32.8940'"
      ],
      "text/latex": [
       "'Optimal points: K=709.2222, r=32.8940'"
      ],
      "text/markdown": [
       "'Optimal points: K=709.2222, r=32.8940'"
      ],
      "text/plain": [
       "[1] \"Optimal points: K=709.2222, r=32.8940\""
      ]
     },
     "metadata": {},
     "output_type": "display_data"
    },
    {
     "data": {
      "text/html": [
       "'Final loss: 73896.5778'"
      ],
      "text/latex": [
       "'Final loss: 73896.5778'"
      ],
      "text/markdown": [
       "'Final loss: 73896.5778'"
      ],
      "text/plain": [
       "[1] \"Final loss: 73896.5778\""
      ]
     },
     "metadata": {},
     "output_type": "display_data"
    },
    {
     "data": {
      "image/png": "[encoded data removed]",
      "text/plain": [
       "plot without title"
      ]
     },
     "metadata": {
      "image/png": {
       "height": 420,
       "width": 420
      }
     },
     "output_type": "display_data"
    }
   ],
   "source": [
    "max_iter <- 100\n",
    "threshold <- 1e-5\n",
    "\n",
    "init_params <- list(k = 1.,r = 1.)\n",
    "start_a <- 0.5\n",
    "M <- -diag(c(1,1), 2, 2)\n",
    "\n",
    "result <- bfgs_optimizer(t, y, max_iter, threshold, init_params, M, start_a)\n",
    "plot(\n",
    "    result$history$iter,\n",
    "    result$history$loss,\n",
    "    type = \"l\",\n",
    "    col = \"blue\",\n",
    "    xlab = 'iter',\n",
    "    ylab = 'MSE'\n",
    ")\n",
    "\n",
    "sprintf(\"Optimal points: K=%.4f, r=%.4f\", result$params$k, result$params$r)\n",
    "sprintf(\"Final loss: %.4f\",loss_func(t, y, result$params))"
   ]
  },
  {
   "cell_type": "code",
   "execution_count": null,
   "id": "a819a3db-414b-4fc5-becc-4dffae1e7046",
   "metadata": {},
   "outputs": [],
   "source": []
  }
 ],
 "metadata": {
  "kernelspec": {
   "display_name": "R",
   "language": "R",
   "name": "ir"
  },
  "language_info": {
   "codemirror_mode": "r",
   "file_extension": ".r",
   "mimetype": "text/x-r-source",
   "name": "R",
   "pygments_lexer": "r",
   "version": "4.3.1"
  }
 },
 "nbformat": 4,
 "nbformat_minor": 5
}
