{
 "cells": [
  {
   "cell_type": "code",
   "execution_count": 1,
   "id": "8b5e8b21-694e-46f9-ad41-ab25188dc3dc",
   "metadata": {},
   "outputs": [],
   "source": [
    "set.seed(42)"
   ]
  },
  {
   "cell_type": "code",
   "execution_count": 2,
   "id": "65897bc3-3c8f-4e8f-82a0-46bc42eb14c0",
   "metadata": {},
   "outputs": [
    {
     "data": {
      "text/html": [
       "<table class=\"dataframe\">\n",
       "<caption>A data.frame: 6 × 2</caption>\n",
       "<thead>\n",
       "\t<tr><th></th><th scope=col>days</th><th scope=col>beetles</th></tr>\n",
       "\t<tr><th></th><th scope=col>&lt;int&gt;</th><th scope=col>&lt;int&gt;</th></tr>\n",
       "</thead>\n",
       "<tbody>\n",
       "\t<tr><th scope=row>1</th><td> 0</td><td>  2</td></tr>\n",
       "\t<tr><th scope=row>2</th><td> 8</td><td> 47</td></tr>\n",
       "\t<tr><th scope=row>3</th><td>28</td><td>192</td></tr>\n",
       "\t<tr><th scope=row>4</th><td>41</td><td>256</td></tr>\n",
       "\t<tr><th scope=row>5</th><td>63</td><td>768</td></tr>\n",
       "\t<tr><th scope=row>6</th><td>79</td><td>896</td></tr>\n",
       "</tbody>\n",
       "</table>\n"
      ],
      "text/latex": [
       "A data.frame: 6 × 2\n",
       "\\begin{tabular}{r|ll}\n",
       "  & days & beetles\\\\\n",
       "  & <int> & <int>\\\\\n",
       "\\hline\n",
       "\t1 &  0 &   2\\\\\n",
       "\t2 &  8 &  47\\\\\n",
       "\t3 & 28 & 192\\\\\n",
       "\t4 & 41 & 256\\\\\n",
       "\t5 & 63 & 768\\\\\n",
       "\t6 & 79 & 896\\\\\n",
       "\\end{tabular}\n"
      ],
      "text/markdown": [
       "\n",
       "A data.frame: 6 × 2\n",
       "\n",
       "| <!--/--> | days &lt;int&gt; | beetles &lt;int&gt; |\n",
       "|---|---|---|\n",
       "| 1 |  0 |   2 |\n",
       "| 2 |  8 |  47 |\n",
       "| 3 | 28 | 192 |\n",
       "| 4 | 41 | 256 |\n",
       "| 5 | 63 | 768 |\n",
       "| 6 | 79 | 896 |\n",
       "\n"
      ],
      "text/plain": [
       "  days beetles\n",
       "1  0     2    \n",
       "2  8    47    \n",
       "3 28   192    \n",
       "4 41   256    \n",
       "5 63   768    \n",
       "6 79   896    "
      ]
     },
     "metadata": {},
     "output_type": "display_data"
    }
   ],
   "source": [
    "beetles_data <- read.csv(file=\"./beetles.csv\", header=TRUE)\n",
    "\n",
    " head(beetles_data)"
   ]
  },
  {
   "cell_type": "code",
   "execution_count": 3,
   "id": "f269325b-12d1-46e1-baa4-d9510c71d6f8",
   "metadata": {},
   "outputs": [
    {
     "data": {
      "text/html": [
       "'Number of days: 10'"
      ],
      "text/latex": [
       "'Number of days: 10'"
      ],
      "text/markdown": [
       "'Number of days: 10'"
      ],
      "text/plain": [
       "[1] \"Number of days: 10\""
      ]
     },
     "metadata": {},
     "output_type": "display_data"
    },
    {
     "data": {
      "text/html": [
       "'Number of beetles: 10'"
      ],
      "text/latex": [
       "'Number of beetles: 10'"
      ],
      "text/markdown": [
       "'Number of beetles: 10'"
      ],
      "text/plain": [
       "[1] \"Number of beetles: 10\""
      ]
     },
     "metadata": {},
     "output_type": "display_data"
    }
   ],
   "source": [
    "t <- beetles_data$days\n",
    "y <- beetles_data$beetles\n",
    "\n",
    "sprintf(\"Number of days: %d\", length(t))\n",
    "sprintf(\"Number of beetles: %d\", length(y))"
   ]
  },
  {
   "cell_type": "code",
   "execution_count": 5,
   "id": "806c9c5c-d3c1-4bd8-ac48-f46e9ce59760",
   "metadata": {},
   "outputs": [],
   "source": [
    "N0 <- y[1]\n",
    "\n",
    "population_func <- function(t, k, r) {\n",
    "    k*N0 / (N0 + (k - N0)*exp(-r*t))\n",
    "}"
   ]
  },
  {
   "cell_type": "markdown",
   "id": "7939bab4-90b1-4f06-b46f-9347aef44e15",
   "metadata": {},
   "source": [
    "### Naive Newton method"
   ]
  },
  {
   "cell_type": "markdown",
   "id": "d6c08138-7f9c-4814-ab4d-282b1d55f632",
   "metadata": {},
   "source": [
    "Given:\n",
    "\n",
    "$\\log(N_{t})$ $\\thicksim$ $\\mathcal{N}(\\log\\{g(t)\\}, \\sigma^2)$"
   ]
  },
  {
   "cell_type": "code",
   "execution_count": 6,
   "id": "49d40b01-9344-495b-b92e-cc304c4b6004",
   "metadata": {},
   "outputs": [],
   "source": [
    "t <- beetles_data$days\n",
    "y <- log(beetles_data$beetles)"
   ]
  },
  {
   "cell_type": "code",
   "execution_count": 7,
   "id": "41ad9fd8-5436-469a-9965-9916e023d40d",
   "metadata": {},
   "outputs": [],
   "source": [
    "loglikelihood_func <- function(t, y, params) {\n",
    "    log_g <- log(population_func(t, params$k, params$r))\n",
    "    delta <- y - log_g\n",
    "    log_l <- (-1/2)*log(2*pi*params$var) - (delta^2)/(2*params$var)\n",
    "\n",
    "    sum(log_l)\n",
    "}"
   ]
  },
  {
   "cell_type": "code",
   "execution_count": 8,
   "id": "322be99f-72c2-490c-bc72-089c029ad0f9",
   "metadata": {},
   "outputs": [],
   "source": [
    "h_prime_func <- function(t, params) {\n",
    "    h_prime_k <- exp(-params$r*t)\n",
    "    h_prime_r <- -t*(params$k - N0)*exp(-params$r*t)\n",
    "\n",
    "    list(k=h_prime_k, r=h_prime_r)\n",
    "}\n",
    "\n",
    "f_prime_func <- function(t, params) {\n",
    "    h <- N0 + (params$k - N0)*exp(-params$r*t)\n",
    "    h_prime <- h_prime_func(t, params)\n",
    "    f_prime_k <- 1/params$k + (1/h)*h_prime$k\n",
    "    f_prime_r <- (1/h)*h_prime$r\n",
    "\n",
    "    list(k=f_prime_k, r=f_prime_r)    \n",
    "}\n",
    "\n",
    "loglike_prime_func <- function(t, y, params) {\n",
    "    log_g <- log(population_func(t, params$k, params$r))\n",
    "    delta <- y - log_g\n",
    "    log_g_prime <- f_prime_func(t, params)\n",
    "    n <- length(t)\n",
    "    \n",
    "    l_prime_k <- (1/params$var)*sum(delta*log_g_prime$k)\n",
    "    l_prime_r <- (1/params$var)*sum(delta*log_g_prime$r)\n",
    "    l_prime_var <- -n/(2*params$var) + sum(delta^2)/(2*params$var^2)\n",
    "\n",
    "    c(l_prime_k, l_prime_r, l_prime_var)\n",
    "}"
   ]
  },
  {
   "cell_type": "code",
   "execution_count": 9,
   "id": "9536485c-6bb3-4a4f-bc58-257a4ffe7b2f",
   "metadata": {},
   "outputs": [],
   "source": [
    "f_2prime_func <- function(t, params) {\n",
    "    exp_rt <- exp(-params$r*t)\n",
    "    h <- N0 + (params$k - N0)*exp_rt\n",
    "    h_prime <- h_prime_func(t, params)\n",
    "    \n",
    "    f_2prime_kk <- -1/params$k^2 - h_prime$k*(1/h^2)*exp_rt\n",
    "    f_2prime_rr <- -t*(N0/h^2)*h_prime$r\n",
    "    f_2prime_rk <- (-t*exp_rt*h - h_prime$r*exp_rt)/h^2\n",
    "\n",
    "    list(kk=f_2prime_kk, rr=f_2prime_rr, rk=f_2prime_rk)\n",
    "}\n",
    "\n",
    "loglike_2prime_func <- function(t, params) {\n",
    "    log_g <- log(population_func(t, params$k, params$r))\n",
    "    f_prime <- f_prime_func(t, params)\n",
    "    f_2prime <- f_2prime_func(t, params)\n",
    "    delta <- y - log_g\n",
    "    n <- length(t)\n",
    "\n",
    "    l_2prime_kk <- (1/params$var)*sum(f_2prime$kk*delta - f_prime$k^2)\n",
    "    l_2prime_rr <- (1/params$var)*sum(f_2prime$rr*delta - f_prime$r^2)\n",
    "    l_2prime_varvar <- n/(2*params$var^2) - (1/params$var^3)*sum(delta^2) \n",
    "    l_2prime_kvar <- (-1/params$var^2)*sum(delta*f_prime$k)\n",
    "    l_2prime_rvar <- (-1/params$var^2)*sum(delta*f_prime$r)\n",
    "    l_2prime_rk <- (1/params$var)*sum(f_2prime$rk*delta - f_prime$k*f_prime$r)\n",
    "\n",
    "    rbind(\n",
    "        c(l_2prime_kk, l_2prime_rk, l_2prime_kvar),\n",
    "        c(l_2prime_rk, l_2prime_rr, l_2prime_rvar),\n",
    "        c(l_2prime_kvar, l_2prime_rvar, l_2prime_varvar)\n",
    "    )\n",
    "}"
   ]
  },
  {
   "cell_type": "markdown",
   "id": "742988f3-d784-4f85-aa1e-36b41dd44328",
   "metadata": {},
   "source": [
    "\\begin{align*}\n",
    "    \\mathbb{E}\\left[-\\frac{\\partial^{2}{L}}{\\partial{K}^2}\\right] &= \\frac{1}{\\sigma^2}\\sum_{i=1}^{M}\\left(\\frac{\\partial f}{\\partial{K}}\\right)^2 \\\\\n",
    "    \\mathbb{E}\\left[-\\frac{\\partial^{2}{L}}{\\partial{r}^2}\\right] &= \\frac{1}{\\sigma^2}\\sum_{i=1}^{M}\\left(\\frac{\\partial f}{\\partial{r}}\\right)^2 \\\\\n",
    "    \\mathbb{E}\\left[-\\frac{\\partial^{2}{L}}{\\partial{r}\\partial{K}}\\right] &= \\frac{1}{\\sigma^2}\\sum_{i=1}^{M}\\frac{\\partial f}{\\partial{r}}\\frac{\\partial f}{\\partial{K}} \\\\\n",
    "    \\mathbb{E}\\left[-\\frac{\\partial^{2}{L}}{(\\partial{\\sigma^2})^2}\\right] &= \\frac{M}{2\\sigma^4}\n",
    "\\end{align*}"
   ]
  },
  {
   "cell_type": "code",
   "execution_count": 10,
   "id": "249ec03e-70dc-4138-ad75-95e084346f14",
   "metadata": {},
   "outputs": [],
   "source": [
    "# caculating fisher matrix function\n",
    "fisher_matrix_func <- function(t, params) {\n",
    "    f_prime <- f_prime_func(t, params)\n",
    "    n <- length(t)\n",
    "    w1 <- (1/params$var)*sum(f_prime$k^2)\n",
    "    w2 <- (1/params$var)*sum(f_prime$r^2)\n",
    "    w12 <- (1/params$var)*sum(f_prime$k*f_prime$r)\n",
    "    w3 <- n/(2*params$var^2)\n",
    "    w <- rbind(\n",
    "        c(w1, w12, 0),\n",
    "        c(w12, w2, 0),\n",
    "        c(0, 0, w3)\n",
    "    )\n",
    "\n",
    "    return(w)\n",
    "}"
   ]
  },
  {
   "cell_type": "code",
   "execution_count": 11,
   "id": "9ced6b49-1294-42b3-86ba-016df4ca9472",
   "metadata": {},
   "outputs": [],
   "source": [
    "hess_appx_func <- function(t, params, method=\"hess\") {\n",
    "    switch(method,\n",
    "           hess = loglike_2prime_func(t, params),\n",
    "           fisher = -fisher_matrix_func(t, params),\n",
    "           loglike_2prime_func(t, params)\n",
    "          )\n",
    "}"
   ]
  },
  {
   "cell_type": "code",
   "execution_count": 12,
   "id": "55c7b996-dda8-4445-a557-c8c287b434d0",
   "metadata": {},
   "outputs": [],
   "source": [
    "newtonlike_updating <- function(params, M, grad, a=1.) {\n",
    "    d <- -solve(M, grad)\n",
    "    \n",
    "    params$k <- params$k + a*d[1]\n",
    "    params$r <- params$r + a*d[2]\n",
    "    params$var <- params$var + a*d[3]\n",
    "    return(params)\n",
    "}\n",
    "\n",
    "update_history <- function(history, iter, obj_val) {\n",
    "    history$iter <- append(history$iter, iter)\n",
    "    history$obj_val <- append(history$obj_val, obj_val)\n",
    "\n",
    "    history\n",
    "}\n",
    "\n",
    "err_func <- function(old_params, params) {\n",
    "    old_params <- c(old_params$k, old_params$r, old_params$var)\n",
    "    params <- c(params$k, params$r, params$var)\n",
    "\n",
    "    norm(params - old_params, type=\"2\")\n",
    "}"
   ]
  },
  {
   "cell_type": "code",
   "execution_count": 13,
   "id": "2e8160c5-dc99-4fe6-ac50-0c32fea51e27",
   "metadata": {},
   "outputs": [],
   "source": [
    "newton_optimizer <- function(t, y, max_iter, threshold, params, start_a=1., hess_method=\"hess\") {\n",
    "    history <- list(iter<-list(), obj_val<-list())\n",
    "    init_obj_val <- loglikelihood_func(t, y, params)\n",
    "    history <- update_history(history, 0, init_obj_val)\n",
    "    a <- start_a\n",
    "    \n",
    "    for (i in 1:max_iter) {\n",
    "        iter <- i\n",
    "        old_params <- params\n",
    "        loglike_prime <- loglike_prime_func(t, y, old_params)\n",
    "        M <- hess_appx_func(t, old_params, hess_method)\n",
    "        params <- newtonlike_updating(old_params, M, loglike_prime, a)\n",
    "        \n",
    "        new_obj_val <- loglikelihood_func(t, y, params)\n",
    "        history <- update_history(history, iter, new_obj_val)\n",
    "        \n",
    "        err <- err_func(old_params, params)\n",
    "        if (err <= threshold) {\n",
    "            print(sprintf(\"Stop at iter: %d\", iter))\n",
    "            break\n",
    "        }\n",
    "    }\n",
    "\n",
    "    return(list(params=params, history=history))\n",
    "}"
   ]
  },
  {
   "cell_type": "code",
   "execution_count": 14,
   "id": "6ee92b05-443e-4182-9cf1-33b25688592d",
   "metadata": {},
   "outputs": [
    {
     "data": {
      "text/html": [
       "'Starting point: K=28.2961, r=1.4371, var=4.1282'"
      ],
      "text/latex": [
       "'Starting point: K=28.2961, r=1.4371, var=4.1282'"
      ],
      "text/markdown": [
       "'Starting point: K=28.2961, r=1.4371, var=4.1282'"
      ],
      "text/plain": [
       "[1] \"Starting point: K=28.2961, r=1.4371, var=4.1282\""
      ]
     },
     "metadata": {},
     "output_type": "display_data"
    },
    {
     "data": {
      "text/html": [
       "'Optimal points: K=499.4574, r=5.0403, var=0.9727'"
      ],
      "text/latex": [
       "'Optimal points: K=499.4574, r=5.0403, var=0.9727'"
      ],
      "text/markdown": [
       "'Optimal points: K=499.4574, r=5.0403, var=0.9727'"
      ],
      "text/plain": [
       "[1] \"Optimal points: K=499.4574, r=5.0403, var=0.9727\""
      ]
     },
     "metadata": {},
     "output_type": "display_data"
    },
    {
     "data": {
      "text/html": [
       "'Final loglikelihood value: -14.0510'"
      ],
      "text/latex": [
       "'Final loglikelihood value: -14.0510'"
      ],
      "text/markdown": [
       "'Final loglikelihood value: -14.0510'"
      ],
      "text/plain": [
       "[1] \"Final loglikelihood value: -14.0510\""
      ]
     },
     "metadata": {},
     "output_type": "display_data"
    },
    {
     "data": {
      "text/html": [
       "'Best loglikelihood value: -14.0510'"
      ],
      "text/latex": [
       "'Best loglikelihood value: -14.0510'"
      ],
      "text/markdown": [
       "'Best loglikelihood value: -14.0510'"
      ],
      "text/plain": [
       "[1] \"Best loglikelihood value: -14.0510\""
      ]
     },
     "metadata": {},
     "output_type": "display_data"
    },
    {
     "data": {
      "image/png": "[encoded data removed]",
      "text/plain": [
       "plot without title"
      ]
     },
     "metadata": {
      "image/png": {
       "height": 420,
       "width": 420
      }
     },
     "output_type": "display_data"
    }
   ],
   "source": [
    "max_iter <- 10000\n",
    "threshold <- 1e-5\n",
    "start_a <- 0.003\n",
    "init_params <- list(\n",
    "    k = runif(1,min=10., max=30.),\n",
    "    r = runif(1,min=0.5, max=1.5),\n",
    "    var = var(y)\n",
    ")\n",
    "sprintf(\"Starting point: K=%.4f, r=%.4f, var=%.4f\", init_params$k, init_params$r, init_params$var)\n",
    "\n",
    "result <- newton_optimizer(t, y, max_iter, threshold, init_params, start_a)\n",
    "plot(\n",
    "    result$history$iter,\n",
    "    result$history$obj_val,\n",
    "    type = 'l',\n",
    "    col = 'blue',\n",
    "    xlab = 'iter',\n",
    "    ylab = 'loglikelihood function'\n",
    ")\n",
    "\n",
    "sprintf(\"Optimal points: K=%.4f, r=%.4f, var=%.4f\", result$params$k, result$params$r, result$params$var)\n",
    "sprintf(\"Final loglikelihood value: %.4f\", loglikelihood_func(t, y, result$params))\n",
    "sprintf(\"Best loglikelihood value: %.4f\", max(result$history$obj_val))"
   ]
  },
  {
   "cell_type": "markdown",
   "id": "685bf20b-9860-48eb-9a88-781c5fe6979b",
   "metadata": {},
   "source": [
    "### Fisher scoring method"
   ]
  },
  {
   "cell_type": "code",
   "execution_count": 25,
   "id": "55bca8ad-7e5f-431d-8529-5e443866b396",
   "metadata": {},
   "outputs": [
    {
     "data": {
      "text/html": [
       "'Starting point: K=0.5474, r=0.9034, var=0.5410'"
      ],
      "text/latex": [
       "'Starting point: K=0.5474, r=0.9034, var=0.5410'"
      ],
      "text/markdown": [
       "'Starting point: K=0.5474, r=0.9034, var=0.5410'"
      ],
      "text/plain": [
       "[1] \"Starting point: K=0.5474, r=0.9034, var=0.5410\""
      ]
     },
     "metadata": {},
     "output_type": "display_data"
    },
    {
     "data": {
      "text/html": [
       "'Optimal points: K=24.5535, r=-0.1128, var=88.7643'"
      ],
      "text/latex": [
       "'Optimal points: K=24.5535, r=-0.1128, var=88.7643'"
      ],
      "text/markdown": [
       "'Optimal points: K=24.5535, r=-0.1128, var=88.7643'"
      ],
      "text/plain": [
       "[1] \"Optimal points: K=24.5535, r=-0.1128, var=88.7643\""
      ]
     },
     "metadata": {},
     "output_type": "display_data"
    },
    {
     "data": {
      "text/html": [
       "'Final loglikelihood value: -44.2148'"
      ],
      "text/latex": [
       "'Final loglikelihood value: -44.2148'"
      ],
      "text/markdown": [
       "'Final loglikelihood value: -44.2148'"
      ],
      "text/plain": [
       "[1] \"Final loglikelihood value: -44.2148\""
      ]
     },
     "metadata": {},
     "output_type": "display_data"
    },
    {
     "data": {
      "text/html": [
       "'Best loglikelihood value: -33.8582'"
      ],
      "text/latex": [
       "'Best loglikelihood value: -33.8582'"
      ],
      "text/markdown": [
       "'Best loglikelihood value: -33.8582'"
      ],
      "text/plain": [
       "[1] \"Best loglikelihood value: -33.8582\""
      ]
     },
     "metadata": {},
     "output_type": "display_data"
    },
    {
     "data": {
      "image/png": "[encoded data removed]",
      "text/plain": [
       "plot without title"
      ]
     },
     "metadata": {
      "image/png": {
       "height": 420,
       "width": 420
      }
     },
     "output_type": "display_data"
    }
   ],
   "source": [
    "max_iter <- 1000\n",
    "threshold <- 1e-5\n",
    "start_a <- 0.002\n",
    "init_params <- list(\n",
    "    k = 0.5474,\n",
    "    r =0.9034,\n",
    "    var = 0.5410\n",
    ")\n",
    "sprintf(\"Starting point: K=%.4f, r=%.4f, var=%.4f\", init_params$k, init_params$r, init_params$var)\n",
    "\n",
    "result <- newton_optimizer(t, y, max_iter, threshold, init_params, start_a, hess_method=\"fisher\")\n",
    "plot(\n",
    "    result$history$iter,\n",
    "    result$history$obj_val,\n",
    "    type = 'l',\n",
    "    col = 'blue',\n",
    "    xlab = 'iter',\n",
    "    ylab = 'loglikelihood function'\n",
    ")\n",
    "\n",
    "sprintf(\"Optimal points: K=%.4f, r=%.4f, var=%.4f\", result$params$k, result$params$r, result$params$var)\n",
    "sprintf(\"Final loglikelihood value: %.4f\", loglikelihood_func(t, y, result$params))\n",
    "sprintf(\"Best loglikelihood value: %.4f\", max(result$history$obj_val))"
   ]
  },
  {
   "cell_type": "markdown",
   "id": "598855c9-59ad-4b49-ab7d-ba431f7399a5",
   "metadata": {},
   "source": [
    "### Quasi-Newton method"
   ]
  },
  {
   "cell_type": "code",
   "execution_count": 16,
   "id": "1625340c-95ad-418d-83f9-316b5c834526",
   "metadata": {},
   "outputs": [],
   "source": [
    "hess_updating <- function(t, y, params, old_params, M, old_grad) {\n",
    "    grad <- loglike_prime_func(t, y, params)\n",
    "\n",
    "    # convert list to vector\n",
    "    params <- c(params$k, params$r, params$var)\n",
    "    old_params <- c(old_params$k, old_params$r, old_params$var)\n",
    "    \n",
    "    h <- params - old_params\n",
    "    u <- grad - old_grad\n",
    "    h_trans <- t(h)\n",
    "    m_h <- M %*% h\n",
    "    num1 <- m_h %*% t(m_h)\n",
    "    de1 <- as.numeric(h_trans %*% m_h)\n",
    "    num2 <- u %*% t(u)\n",
    "    de2 <- as.numeric(h_trans %*% u)\n",
    "\n",
    "    M <- M - num1/de1 + num2/de2\n",
    "}\n",
    "\n",
    "bfgs_optimizer <- function(t, y, max_iter, threshold, params, M, start_a) {\n",
    "    history <- list(iter<-list(), obj_val<-list())\n",
    "    init_obj_val <- loglikelihood_func(t, y, params)\n",
    "    history <- update_history(history, 0, init_obj_val)\n",
    "    \n",
    "    for (i in 1:max_iter) {\n",
    "        iter <- i\n",
    "        a <- start_a\n",
    "        old_params <- params\n",
    "        old_obj_val <- loglikelihood_func(t, y, old_params)\n",
    "        loglike_prime <- loglike_prime_func(t, y, old_params)\n",
    "        params <- newtonlike_updating(old_params, M, loglike_prime, a)\n",
    "\n",
    "        for (j in 1:10) {\n",
    "            new_obj_val <- loglikelihood_func(t, y, params)\n",
    "            if (new_obj_val > old_obj_val) {\n",
    "                break\n",
    "            }\n",
    "            a <- a / 2.\n",
    "            params <- newtonlike_updating(old_params, M, loglike_prime, a)\n",
    "        }\n",
    "        \n",
    "        history <- update_history(history, iter, new_obj_val)\n",
    "        err <- err_func(old_params, params)\n",
    "        if (err <= threshold) {\n",
    "            print(sprintf(\"Stop at iter: %d\", iter))\n",
    "            break\n",
    "        }\n",
    "        \n",
    "        M <- hess_updating(t, y, params, old_params, M, loglike_prime)\n",
    "    }\n",
    "\n",
    "    return(list(params=params, history=history))\n",
    "}"
   ]
  },
  {
   "cell_type": "markdown",
   "id": "a58e503b-5056-4a5b-aa21-6d0d2728f463",
   "metadata": {},
   "source": [
    "Run with $M = -diag(1,1,\\dots,1)$"
   ]
  },
  {
   "cell_type": "code",
   "execution_count": 17,
   "id": "16f473a2-eedc-4842-b798-af93e8628cd9",
   "metadata": {},
   "outputs": [
    {
     "data": {
      "text/html": [
       "'Starting point: K=0.2861, r=0.8304, var=0.6417'"
      ],
      "text/latex": [
       "'Starting point: K=0.2861, r=0.8304, var=0.6417'"
      ],
      "text/markdown": [
       "'Starting point: K=0.2861, r=0.8304, var=0.6417'"
      ],
      "text/plain": [
       "[1] \"Starting point: K=0.2861, r=0.8304, var=0.6417\""
      ]
     },
     "metadata": {},
     "output_type": "display_data"
    },
    {
     "data": {
      "text/html": [
       "'Optimal points: K=43.7473, r=2.9796, var=9.4078'"
      ],
      "text/latex": [
       "'Optimal points: K=43.7473, r=2.9796, var=9.4078'"
      ],
      "text/markdown": [
       "'Optimal points: K=43.7473, r=2.9796, var=9.4078'"
      ],
      "text/plain": [
       "[1] \"Optimal points: K=43.7473, r=2.9796, var=9.4078\""
      ]
     },
     "metadata": {},
     "output_type": "display_data"
    },
    {
     "data": {
      "text/html": [
       "'Final loglikelihood value: -23.7504'"
      ],
      "text/latex": [
       "'Final loglikelihood value: -23.7504'"
      ],
      "text/markdown": [
       "'Final loglikelihood value: -23.7504'"
      ],
      "text/plain": [
       "[1] \"Final loglikelihood value: -23.7504\""
      ]
     },
     "metadata": {},
     "output_type": "display_data"
    },
    {
     "data": {
      "text/html": [
       "'Best loglikelihood value: -23.7504'"
      ],
      "text/latex": [
       "'Best loglikelihood value: -23.7504'"
      ],
      "text/markdown": [
       "'Best loglikelihood value: -23.7504'"
      ],
      "text/plain": [
       "[1] \"Best loglikelihood value: -23.7504\""
      ]
     },
     "metadata": {},
     "output_type": "display_data"
    },
    {
     "data": {
      "image/png": "[encoded data removed]",
      "text/plain": [
       "plot without title"
      ]
     },
     "metadata": {
      "image/png": {
       "height": 420,
       "width": 420
      }
     },
     "output_type": "display_data"
    }
   ],
   "source": [
    "max_iter <- 1000\n",
    "threshold <- 1e-5\n",
    "start_a <- 0.005\n",
    "init_params <- list(\n",
    "    k= runif(1,min=0, max=1),\n",
    "    r= runif(1,min=0, max=1),\n",
    "    var=runif(1,min=0, max=1)\n",
    ")\n",
    "M <- -diag(c(1, 1, 1), 3, 3)\n",
    "sprintf(\"Starting point: K=%.4f, r=%.4f, var=%.4f\", init_params$k, init_params$r, init_params$var)\n",
    "\n",
    "result <- bfgs_optimizer(t, y, max_iter, threshold, init_params, M, start_a)\n",
    "plot(\n",
    "    result$history$iter,\n",
    "    result$history$obj_val,\n",
    "    type = 'l',\n",
    "    col = 'blue',\n",
    "    xlab = 'iter',\n",
    "    ylab = 'loglikelihood function'\n",
    ")\n",
    "\n",
    "sprintf(\"Optimal points: K=%.4f, r=%.4f, var=%.4f\", result$params$k, result$params$r, result$params$var)\n",
    "sprintf(\"Final loglikelihood value: %.4f\", loglikelihood_func(t, y, result$params))\n",
    "sprintf(\"Best loglikelihood value: %.4f\", max(result$history$obj_val))"
   ]
  },
  {
   "cell_type": "markdown",
   "id": "3e1aefb7-e788-4548-a448-f293984c3ad3",
   "metadata": {},
   "source": [
    "Run with $M = -fisher$"
   ]
  },
  {
   "cell_type": "code",
   "execution_count": 22,
   "id": "f023026e-0b4c-4dd6-a2b2-5f2e4329efed",
   "metadata": {},
   "outputs": [
    {
     "data": {
      "text/html": [
       "'Starting point: K=0.1175, r=0.4750, var=0.5603'"
      ],
      "text/latex": [
       "'Starting point: K=0.1175, r=0.4750, var=0.5603'"
      ],
      "text/markdown": [
       "'Starting point: K=0.1175, r=0.4750, var=0.5603'"
      ],
      "text/plain": [
       "[1] \"Starting point: K=0.1175, r=0.4750, var=0.5603\""
      ]
     },
     "metadata": {},
     "output_type": "display_data"
    },
    {
     "data": {
      "text/html": [
       "'Optimal points: K=42.1542, r=1164.7462, var=22.2171'"
      ],
      "text/latex": [
       "'Optimal points: K=42.1542, r=1164.7462, var=22.2171'"
      ],
      "text/markdown": [
       "'Optimal points: K=42.1542, r=1164.7462, var=22.2171'"
      ],
      "text/plain": [
       "[1] \"Optimal points: K=42.1542, r=1164.7462, var=22.2171\""
      ]
     },
     "metadata": {},
     "output_type": "display_data"
    },
    {
     "data": {
      "text/html": [
       "'Final loglikelihood value: -26.1505'"
      ],
      "text/latex": [
       "'Final loglikelihood value: -26.1505'"
      ],
      "text/markdown": [
       "'Final loglikelihood value: -26.1505'"
      ],
      "text/plain": [
       "[1] \"Final loglikelihood value: -26.1505\""
      ]
     },
     "metadata": {},
     "output_type": "display_data"
    },
    {
     "data": {
      "text/html": [
       "'Best loglikelihood value: -25.9497'"
      ],
      "text/latex": [
       "'Best loglikelihood value: -25.9497'"
      ],
      "text/markdown": [
       "'Best loglikelihood value: -25.9497'"
      ],
      "text/plain": [
       "[1] \"Best loglikelihood value: -25.9497\""
      ]
     },
     "metadata": {},
     "output_type": "display_data"
    },
    {
     "data": {
      "image/png": "[encoded data removed]",
      "text/plain": [
       "plot without title"
      ]
     },
     "metadata": {
      "image/png": {
       "height": 420,
       "width": 420
      }
     },
     "output_type": "display_data"
    }
   ],
   "source": [
    "max_iter <- 1000\n",
    "threshold <- 1e-5\n",
    "start_a <- 0.05\n",
    "init_params <- list(\n",
    "    k= runif(1,min=0, max=1),\n",
    "    r= runif(1,min=0, max=1),\n",
    "    var=runif(1,min=0, max=1)\n",
    ")\n",
    "M <- -fisher_matrix_func(t, init_params)\n",
    "sprintf(\"Starting point: K=%.4f, r=%.4f, var=%.4f\", init_params$k, init_params$r, init_params$var)\n",
    "\n",
    "result <- bfgs_optimizer(t, y, max_iter, threshold, init_params, M, start_a)\n",
    "plot(\n",
    "    result$history$iter,\n",
    "    result$history$obj_val,\n",
    "    type = 'l',\n",
    "    col = 'blue',\n",
    "    xlab = 'iter',\n",
    "    ylab = 'loglikelihood function'\n",
    ")\n",
    "\n",
    "sprintf(\"Optimal points: K=%.4f, r=%.4f, var=%.4f\", result$params$k, result$params$r, result$params$var)\n",
    "sprintf(\"Final loglikelihood value: %.4f\", loglikelihood_func(t, y, result$params))\n",
    "sprintf(\"Best loglikelihood value: %.4f\", max(result$history$obj_val))"
   ]
  },
  {
   "cell_type": "code",
   "execution_count": null,
   "id": "ecec11ec-1106-49d6-bb04-bbedca7eef17",
   "metadata": {},
   "outputs": [],
   "source": []
  }
 ],
 "metadata": {
  "kernelspec": {
   "display_name": "R",
   "language": "R",
   "name": "ir"
  },
  "language_info": {
   "codemirror_mode": "r",
   "file_extension": ".r",
   "mimetype": "text/x-r-source",
   "name": "R",
   "pygments_lexer": "r",
   "version": "4.3.1"
  }
 },
 "nbformat": 4,
 "nbformat_minor": 5
}
